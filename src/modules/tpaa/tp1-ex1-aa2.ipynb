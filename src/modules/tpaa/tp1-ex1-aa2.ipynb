{
 "cells": [
  {
   "cell_type": "code",
   "execution_count": 1,
   "id": "541802b4-5994-45d2-9b0e-fd8af967a0d7",
   "metadata": {},
   "outputs": [
    {
     "name": "stdout",
     "output_type": "stream",
     "text": [
      "Minimum value of f(x): -0.08333333333333304\n",
      "Value of x at the minimum: -0.8333333429395825\n"
     ]
    }
   ],
   "source": [
    "from scipy.optimize import minimize\n",
    "\n",
    "# 3x + 5 \n",
    "\n",
    "# Define the quadratic function\n",
    "def f(x):\n",
    "    return 3 * x**2 + 5 * x + 2\n",
    "\n",
    "# Initial guess for the optimizer\n",
    "x0 = 0.0\n",
    "\n",
    "# Minimize the function using a method suitable for unconstrained optimization\n",
    "result = minimize(f, x0)\n",
    "\n",
    "# Output the result\n",
    "print(\"Minimum value of f(x):\", result.fun)\n",
    "print(\"Value of x at the minimum:\", result.x[0])\n"
   ]
  },
  {
   "cell_type": "code",
   "execution_count": null,
   "id": "e71dfdb7-f079-4a87-9592-81650368a61b",
   "metadata": {},
   "outputs": [],
   "source": []
  }
 ],
 "metadata": {
  "kernelspec": {
   "display_name": "Python 3 (ipykernel)",
   "language": "python",
   "name": "python3"
  },
  "language_info": {
   "codemirror_mode": {
    "name": "ipython",
    "version": 3
   },
   "file_extension": ".py",
   "mimetype": "text/x-python",
   "name": "python",
   "nbconvert_exporter": "python",
   "pygments_lexer": "ipython3",
   "version": "3.12.4"
  }
 },
 "nbformat": 4,
 "nbformat_minor": 5
}
